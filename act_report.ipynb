{
 "cells": [
  {
   "cell_type": "markdown",
   "metadata": {},
   "source": [
    "# Project: \"We Rate Dogs\" Twitter Data Wrangling"
   ]
  },
  {
   "cell_type": "markdown",
   "metadata": {},
   "source": [
    "## Analysis and Visualization\n",
    "\n",
    "This section of the project focuses on coming up with visuals and insights about the data that was wrangled and cleaned in the previous section. "
   ]
  },
  {
   "cell_type": "code",
   "execution_count": 17,
   "metadata": {
    "collapsed": true
   },
   "outputs": [],
   "source": [
    "#Import requried packages\n",
    "import pandas as pd"
   ]
  },
  {
   "cell_type": "code",
   "execution_count": 18,
   "metadata": {},
   "outputs": [],
   "source": [
    "#Reload the clean dataframe\n",
    "df = pd.read_csv('twitter_archive_master.csv')"
   ]
  },
  {
   "cell_type": "code",
   "execution_count": 19,
   "metadata": {},
   "outputs": [
    {
     "data": {
      "text/html": [
       "<div>\n",
       "<style>\n",
       "    .dataframe thead tr:only-child th {\n",
       "        text-align: right;\n",
       "    }\n",
       "\n",
       "    .dataframe thead th {\n",
       "        text-align: left;\n",
       "    }\n",
       "\n",
       "    .dataframe tbody tr th {\n",
       "        vertical-align: top;\n",
       "    }\n",
       "</style>\n",
       "<table border=\"1\" class=\"dataframe\">\n",
       "  <thead>\n",
       "    <tr style=\"text-align: right;\">\n",
       "      <th></th>\n",
       "      <th>Unnamed: 0</th>\n",
       "      <th>tweet_id</th>\n",
       "      <th>likes</th>\n",
       "      <th>retweet_count</th>\n",
       "      <th>predicted_breed</th>\n",
       "      <th>timestamp</th>\n",
       "      <th>text</th>\n",
       "      <th>new_names</th>\n",
       "      <th>final_float_ratings</th>\n",
       "      <th>classification</th>\n",
       "    </tr>\n",
       "  </thead>\n",
       "  <tbody>\n",
       "    <tr>\n",
       "      <th>0</th>\n",
       "      <td>2</td>\n",
       "      <td>890006608113172480</td>\n",
       "      <td>30808.0</td>\n",
       "      <td>7447.0</td>\n",
       "      <td>Samoyed</td>\n",
       "      <td>2017-07-26 00:31:25</td>\n",
       "      <td>This is Koda. He is a South Australian decksha...</td>\n",
       "      <td>koda</td>\n",
       "      <td>1.3</td>\n",
       "      <td>not provided</td>\n",
       "    </tr>\n",
       "    <tr>\n",
       "      <th>1</th>\n",
       "      <td>3</td>\n",
       "      <td>872620804844003328</td>\n",
       "      <td>20998.0</td>\n",
       "      <td>3804.0</td>\n",
       "      <td>cocker_spaniel</td>\n",
       "      <td>2017-06-08 01:06:27</td>\n",
       "      <td>This is Monkey. She's supporting owners everyw...</td>\n",
       "      <td>monkey</td>\n",
       "      <td>1.3</td>\n",
       "      <td>not provided</td>\n",
       "    </tr>\n",
       "    <tr>\n",
       "      <th>2</th>\n",
       "      <td>4</td>\n",
       "      <td>872486979161796608</td>\n",
       "      <td>41017.0</td>\n",
       "      <td>9220.0</td>\n",
       "      <td>Pembroke</td>\n",
       "      <td>2017-06-07 16:14:40</td>\n",
       "      <td>We. Only. Rate. Dogs. Do not send in other thi...</td>\n",
       "      <td>Invalid Name</td>\n",
       "      <td>1.2</td>\n",
       "      <td>not provided</td>\n",
       "    </tr>\n",
       "    <tr>\n",
       "      <th>3</th>\n",
       "      <td>14</td>\n",
       "      <td>870804317367881728</td>\n",
       "      <td>34089.0</td>\n",
       "      <td>6417.0</td>\n",
       "      <td>home_theater</td>\n",
       "      <td>2017-06-03 00:48:22</td>\n",
       "      <td>Real funny guys. Sending in a pic without a do...</td>\n",
       "      <td>Invalid Name</td>\n",
       "      <td>1.1</td>\n",
       "      <td>not provided</td>\n",
       "    </tr>\n",
       "    <tr>\n",
       "      <th>4</th>\n",
       "      <td>17</td>\n",
       "      <td>870374049280663552</td>\n",
       "      <td>83813.0</td>\n",
       "      <td>27060.0</td>\n",
       "      <td>golden_retriever</td>\n",
       "      <td>2017-06-01 20:18:38</td>\n",
       "      <td>This is Zoey. She really likes the planet. Wou...</td>\n",
       "      <td>zoey</td>\n",
       "      <td>1.3</td>\n",
       "      <td>not provided</td>\n",
       "    </tr>\n",
       "  </tbody>\n",
       "</table>\n",
       "</div>"
      ],
      "text/plain": [
       "   Unnamed: 0            tweet_id    likes  retweet_count   predicted_breed  \\\n",
       "0           2  890006608113172480  30808.0         7447.0           Samoyed   \n",
       "1           3  872620804844003328  20998.0         3804.0    cocker_spaniel   \n",
       "2           4  872486979161796608  41017.0         9220.0          Pembroke   \n",
       "3          14  870804317367881728  34089.0         6417.0      home_theater   \n",
       "4          17  870374049280663552  83813.0        27060.0  golden_retriever   \n",
       "\n",
       "             timestamp                                               text  \\\n",
       "0  2017-07-26 00:31:25  This is Koda. He is a South Australian decksha...   \n",
       "1  2017-06-08 01:06:27  This is Monkey. She's supporting owners everyw...   \n",
       "2  2017-06-07 16:14:40  We. Only. Rate. Dogs. Do not send in other thi...   \n",
       "3  2017-06-03 00:48:22  Real funny guys. Sending in a pic without a do...   \n",
       "4  2017-06-01 20:18:38  This is Zoey. She really likes the planet. Wou...   \n",
       "\n",
       "      new_names  final_float_ratings classification  \n",
       "0          koda                  1.3   not provided  \n",
       "1        monkey                  1.3   not provided  \n",
       "2  Invalid Name                  1.2   not provided  \n",
       "3  Invalid Name                  1.1   not provided  \n",
       "4          zoey                  1.3   not provided  "
      ]
     },
     "execution_count": 19,
     "metadata": {},
     "output_type": "execute_result"
    }
   ],
   "source": [
    "df.head()"
   ]
  },
  {
   "cell_type": "code",
   "execution_count": 20,
   "metadata": {
    "collapsed": true
   },
   "outputs": [],
   "source": [
    "#Remove the first column that was imported \n",
    "df.drop(['Unnamed: 0'], axis =1, inplace = True)"
   ]
  },
  {
   "cell_type": "code",
   "execution_count": 21,
   "metadata": {},
   "outputs": [
    {
     "data": {
      "text/html": [
       "<div>\n",
       "<style>\n",
       "    .dataframe thead tr:only-child th {\n",
       "        text-align: right;\n",
       "    }\n",
       "\n",
       "    .dataframe thead th {\n",
       "        text-align: left;\n",
       "    }\n",
       "\n",
       "    .dataframe tbody tr th {\n",
       "        vertical-align: top;\n",
       "    }\n",
       "</style>\n",
       "<table border=\"1\" class=\"dataframe\">\n",
       "  <thead>\n",
       "    <tr style=\"text-align: right;\">\n",
       "      <th></th>\n",
       "      <th>tweet_id</th>\n",
       "      <th>likes</th>\n",
       "      <th>retweet_count</th>\n",
       "      <th>predicted_breed</th>\n",
       "      <th>timestamp</th>\n",
       "      <th>text</th>\n",
       "      <th>new_names</th>\n",
       "      <th>final_float_ratings</th>\n",
       "      <th>classification</th>\n",
       "    </tr>\n",
       "  </thead>\n",
       "  <tbody>\n",
       "    <tr>\n",
       "      <th>0</th>\n",
       "      <td>890006608113172480</td>\n",
       "      <td>30808.0</td>\n",
       "      <td>7447.0</td>\n",
       "      <td>Samoyed</td>\n",
       "      <td>2017-07-26 00:31:25</td>\n",
       "      <td>This is Koda. He is a South Australian decksha...</td>\n",
       "      <td>koda</td>\n",
       "      <td>1.3</td>\n",
       "      <td>not provided</td>\n",
       "    </tr>\n",
       "    <tr>\n",
       "      <th>1</th>\n",
       "      <td>872620804844003328</td>\n",
       "      <td>20998.0</td>\n",
       "      <td>3804.0</td>\n",
       "      <td>cocker_spaniel</td>\n",
       "      <td>2017-06-08 01:06:27</td>\n",
       "      <td>This is Monkey. She's supporting owners everyw...</td>\n",
       "      <td>monkey</td>\n",
       "      <td>1.3</td>\n",
       "      <td>not provided</td>\n",
       "    </tr>\n",
       "    <tr>\n",
       "      <th>2</th>\n",
       "      <td>872486979161796608</td>\n",
       "      <td>41017.0</td>\n",
       "      <td>9220.0</td>\n",
       "      <td>Pembroke</td>\n",
       "      <td>2017-06-07 16:14:40</td>\n",
       "      <td>We. Only. Rate. Dogs. Do not send in other thi...</td>\n",
       "      <td>Invalid Name</td>\n",
       "      <td>1.2</td>\n",
       "      <td>not provided</td>\n",
       "    </tr>\n",
       "    <tr>\n",
       "      <th>3</th>\n",
       "      <td>870804317367881728</td>\n",
       "      <td>34089.0</td>\n",
       "      <td>6417.0</td>\n",
       "      <td>home_theater</td>\n",
       "      <td>2017-06-03 00:48:22</td>\n",
       "      <td>Real funny guys. Sending in a pic without a do...</td>\n",
       "      <td>Invalid Name</td>\n",
       "      <td>1.1</td>\n",
       "      <td>not provided</td>\n",
       "    </tr>\n",
       "    <tr>\n",
       "      <th>4</th>\n",
       "      <td>870374049280663552</td>\n",
       "      <td>83813.0</td>\n",
       "      <td>27060.0</td>\n",
       "      <td>golden_retriever</td>\n",
       "      <td>2017-06-01 20:18:38</td>\n",
       "      <td>This is Zoey. She really likes the planet. Wou...</td>\n",
       "      <td>zoey</td>\n",
       "      <td>1.3</td>\n",
       "      <td>not provided</td>\n",
       "    </tr>\n",
       "  </tbody>\n",
       "</table>\n",
       "</div>"
      ],
      "text/plain": [
       "             tweet_id    likes  retweet_count   predicted_breed  \\\n",
       "0  890006608113172480  30808.0         7447.0           Samoyed   \n",
       "1  872620804844003328  20998.0         3804.0    cocker_spaniel   \n",
       "2  872486979161796608  41017.0         9220.0          Pembroke   \n",
       "3  870804317367881728  34089.0         6417.0      home_theater   \n",
       "4  870374049280663552  83813.0        27060.0  golden_retriever   \n",
       "\n",
       "             timestamp                                               text  \\\n",
       "0  2017-07-26 00:31:25  This is Koda. He is a South Australian decksha...   \n",
       "1  2017-06-08 01:06:27  This is Monkey. She's supporting owners everyw...   \n",
       "2  2017-06-07 16:14:40  We. Only. Rate. Dogs. Do not send in other thi...   \n",
       "3  2017-06-03 00:48:22  Real funny guys. Sending in a pic without a do...   \n",
       "4  2017-06-01 20:18:38  This is Zoey. She really likes the planet. Wou...   \n",
       "\n",
       "      new_names  final_float_ratings classification  \n",
       "0          koda                  1.3   not provided  \n",
       "1        monkey                  1.3   not provided  \n",
       "2  Invalid Name                  1.2   not provided  \n",
       "3  Invalid Name                  1.1   not provided  \n",
       "4          zoey                  1.3   not provided  "
      ]
     },
     "execution_count": 21,
     "metadata": {},
     "output_type": "execute_result"
    }
   ],
   "source": [
    "df.head()"
   ]
  },
  {
   "cell_type": "markdown",
   "metadata": {},
   "source": [
    "### Insights\n",
    "\n",
    "There are a few possible insights to be drawn from this data. Here are a couple I chose to investigate: \n",
    "\n",
    "1. Is there a breed that received more likes than other breeds? How many likes on average does each breed receive?\n",
    "2. Which classification resulted in the highest ratings? (This may be challenging, since the dog classification wasn't always provided). \n",
    "3. Is there a time of day (morning, noon, or afternoon) that people tweet the most about their dogs? \n",
    "\n",
    "Visualization: \n",
    "- I would like to provide a word cloud of different parts of the extracted tweet texts in the shape of a dog to illustrate how excited people are about their dogs!"
   ]
  },
  {
   "cell_type": "markdown",
   "metadata": {},
   "source": [
    "#### Insight #1: Is there a breed of dogs that received more likes than other breeds? \n",
    "\n",
    "To answer this question I will look at comparing the likes for each of the breeds. To do this, I will need to group by breed, and then summarize the variables 'likes'.  \n",
    "\n"
   ]
  },
  {
   "cell_type": "code",
   "execution_count": 22,
   "metadata": {
    "collapsed": true
   },
   "outputs": [],
   "source": [
    "# Group by breed, then summarize the variables \n",
    "\n",
    "breed_likes = df.groupby(['predicted_breed'])['likes'].mean()\n",
    "\n"
   ]
  },
  {
   "cell_type": "code",
   "execution_count": 23,
   "metadata": {},
   "outputs": [
    {
     "data": {
      "text/plain": [
       "count      374.000000\n",
       "mean      2789.882510\n",
       "std       6020.398845\n",
       "min          0.000000\n",
       "25%          0.000000\n",
       "50%          0.000000\n",
       "75%       3180.687500\n",
       "max      46549.000000\n",
       "Name: likes, dtype: float64"
      ]
     },
     "execution_count": 23,
     "metadata": {},
     "output_type": "execute_result"
    }
   ],
   "source": [
    "#Summarize the likes into a table or graph showing the most popular breeds\n",
    "breed_likes.describe()"
   ]
  },
  {
   "cell_type": "code",
   "execution_count": 24,
   "metadata": {},
   "outputs": [
    {
     "data": {
      "text/html": [
       "<div>\n",
       "<style>\n",
       "    .dataframe thead tr:only-child th {\n",
       "        text-align: right;\n",
       "    }\n",
       "\n",
       "    .dataframe thead th {\n",
       "        text-align: left;\n",
       "    }\n",
       "\n",
       "    .dataframe tbody tr th {\n",
       "        vertical-align: top;\n",
       "    }\n",
       "</style>\n",
       "<table border=\"1\" class=\"dataframe\">\n",
       "  <thead>\n",
       "    <tr style=\"text-align: right;\">\n",
       "      <th></th>\n",
       "      <th>likes</th>\n",
       "    </tr>\n",
       "    <tr>\n",
       "      <th>predicted_breed</th>\n",
       "      <th></th>\n",
       "    </tr>\n",
       "  </thead>\n",
       "  <tbody>\n",
       "    <tr>\n",
       "      <th>Afghan_hound</th>\n",
       "      <td>11365.333333</td>\n",
       "    </tr>\n",
       "    <tr>\n",
       "      <th>African_crocodile</th>\n",
       "      <td>0.000000</td>\n",
       "    </tr>\n",
       "    <tr>\n",
       "      <th>African_grey</th>\n",
       "      <td>5262.000000</td>\n",
       "    </tr>\n",
       "    <tr>\n",
       "      <th>African_hunting_dog</th>\n",
       "      <td>0.000000</td>\n",
       "    </tr>\n",
       "    <tr>\n",
       "      <th>Airedale</th>\n",
       "      <td>2230.583333</td>\n",
       "    </tr>\n",
       "  </tbody>\n",
       "</table>\n",
       "</div>"
      ],
      "text/plain": [
       "                            likes\n",
       "predicted_breed                  \n",
       "Afghan_hound         11365.333333\n",
       "African_crocodile        0.000000\n",
       "African_grey          5262.000000\n",
       "African_hunting_dog      0.000000\n",
       "Airedale              2230.583333"
      ]
     },
     "execution_count": 24,
     "metadata": {},
     "output_type": "execute_result"
    }
   ],
   "source": [
    "#Convert to dataframe to get the breed associated with each number of likes\n",
    "\n",
    "df_breed_likes = breed_likes.to_frame(name = 'likes')\n",
    "df_breed_likes.head()"
   ]
  },
  {
   "cell_type": "code",
   "execution_count": 25,
   "metadata": {
    "collapsed": true
   },
   "outputs": [],
   "source": [
    "# Drop all zero values: \n",
    "df_breed_likes = df_breed_likes[(df_breed_likes != 0).all(1)]"
   ]
  },
  {
   "cell_type": "code",
   "execution_count": 26,
   "metadata": {},
   "outputs": [
    {
     "data": {
      "text/html": [
       "<div>\n",
       "<style>\n",
       "    .dataframe thead tr:only-child th {\n",
       "        text-align: right;\n",
       "    }\n",
       "\n",
       "    .dataframe thead th {\n",
       "        text-align: left;\n",
       "    }\n",
       "\n",
       "    .dataframe tbody tr th {\n",
       "        vertical-align: top;\n",
       "    }\n",
       "</style>\n",
       "<table border=\"1\" class=\"dataframe\">\n",
       "  <thead>\n",
       "    <tr style=\"text-align: right;\">\n",
       "      <th></th>\n",
       "      <th>predicted_breed</th>\n",
       "      <th>likes</th>\n",
       "    </tr>\n",
       "  </thead>\n",
       "  <tbody>\n",
       "    <tr>\n",
       "      <th>0</th>\n",
       "      <td>Afghan_hound</td>\n",
       "      <td>11365.333333</td>\n",
       "    </tr>\n",
       "    <tr>\n",
       "      <th>1</th>\n",
       "      <td>African_grey</td>\n",
       "      <td>5262.000000</td>\n",
       "    </tr>\n",
       "    <tr>\n",
       "      <th>2</th>\n",
       "      <td>Airedale</td>\n",
       "      <td>2230.583333</td>\n",
       "    </tr>\n",
       "    <tr>\n",
       "      <th>3</th>\n",
       "      <td>American_Staffordshire_terrier</td>\n",
       "      <td>2315.461538</td>\n",
       "    </tr>\n",
       "    <tr>\n",
       "      <th>4</th>\n",
       "      <td>Angora</td>\n",
       "      <td>46549.000000</td>\n",
       "    </tr>\n",
       "  </tbody>\n",
       "</table>\n",
       "</div>"
      ],
      "text/plain": [
       "                  predicted_breed         likes\n",
       "0                    Afghan_hound  11365.333333\n",
       "1                    African_grey   5262.000000\n",
       "2                        Airedale   2230.583333\n",
       "3  American_Staffordshire_terrier   2315.461538\n",
       "4                          Angora  46549.000000"
      ]
     },
     "execution_count": 26,
     "metadata": {},
     "output_type": "execute_result"
    }
   ],
   "source": [
    "#Add an index: \n",
    "df_breed_likes.reset_index(level=0, inplace=True)\n",
    "df_breed_likes.head()\n"
   ]
  },
  {
   "cell_type": "code",
   "execution_count": 27,
   "metadata": {},
   "outputs": [
    {
     "name": "stdout",
     "output_type": "stream",
     "text": [
      "<class 'pandas.core.frame.DataFrame'>\n",
      "RangeIndex: 143 entries, 0 to 142\n",
      "Data columns (total 2 columns):\n",
      "predicted_breed    143 non-null object\n",
      "likes              143 non-null float64\n",
      "dtypes: float64(1), object(1)\n",
      "memory usage: 2.3+ KB\n"
     ]
    }
   ],
   "source": [
    "df_breed_likes.info()"
   ]
  },
  {
   "cell_type": "code",
   "execution_count": 28,
   "metadata": {},
   "outputs": [
    {
     "data": {
      "text/plain": [
       "count      143.000000\n",
       "mean      7296.615797\n",
       "std       7879.847069\n",
       "min        420.763158\n",
       "25%       2561.125000\n",
       "50%       4559.550000\n",
       "75%       9490.346154\n",
       "max      46549.000000\n",
       "Name: likes, dtype: float64"
      ]
     },
     "execution_count": 28,
     "metadata": {},
     "output_type": "execute_result"
    }
   ],
   "source": [
    "df_breed_likes.likes.describe()"
   ]
  },
  {
   "cell_type": "code",
   "execution_count": 31,
   "metadata": {},
   "outputs": [
    {
     "data": {
      "text/plain": [
       "<matplotlib.text.Text at 0x11a73b780>"
      ]
     },
     "execution_count": 31,
     "metadata": {},
     "output_type": "execute_result"
    },
    {
     "data": {
      "image/png": "[encoded data removed]",
      "text/plain": [
       "<matplotlib.figure.Figure at 0x119c3bc88>"
      ]
     },
     "metadata": {},
     "output_type": "display_data"
    }
   ],
   "source": [
    "#summarize with a graph showing the breeds with the greatest number of likes: \n",
    "import matplotlib.pyplot as plt\n",
    "%matplotlib inline\n",
    "df_breed_likes.plot.bar(x = 'predicted_breed', y = 'likes')\n",
    "labels = df_breed_likes.predicted_breed\n",
    "\n",
    "plt.title('Distribution of Number of Likes')\n",
    "plt.xlabel('Dog Breed')\n"
   ]
  },
  {
   "cell_type": "markdown",
   "metadata": {},
   "source": [
    "Looking at the above graph it is not clear (due to the number of breeds) which are most liked. Obviously, there are too many breeds shown on this graph. There are 143 total breeds in this data set. To get a better understanding of which breeds are most popular on the twitter site \"We rate dogs\", it makes more sense to take the top 40, for example, and look at the which breeds those are. \n",
    "Also interesting is that the number of likes falls mostly below 10,000 (75%). There are less than 25% of the breeds in this subset of data that are greater than that, with the max at 46,549. It'll be interesting to see which breeds got the highest likes. \n",
    "Below please find the subset of the 20 highest liked breeds, as well as the summary of the number of likes for the most popular breeds. "
   ]
  },
  {
   "cell_type": "code",
   "execution_count": 32,
   "metadata": {
    "collapsed": true
   },
   "outputs": [],
   "source": [
    "#find the greatest 20 likes in the dataframe df_breed_likes\n",
    "df_breed_likes_largest = df_breed_likes.nlargest(40, 'likes')"
   ]
  },
  {
   "cell_type": "code",
   "execution_count": 33,
   "metadata": {},
   "outputs": [
    {
     "data": {
      "text/html": [
       "<div>\n",
       "<style>\n",
       "    .dataframe thead tr:only-child th {\n",
       "        text-align: right;\n",
       "    }\n",
       "\n",
       "    .dataframe thead th {\n",
       "        text-align: left;\n",
       "    }\n",
       "\n",
       "    .dataframe tbody tr th {\n",
       "        vertical-align: top;\n",
       "    }\n",
       "</style>\n",
       "<table border=\"1\" class=\"dataframe\">\n",
       "  <thead>\n",
       "    <tr style=\"text-align: right;\">\n",
       "      <th></th>\n",
       "      <th>likes</th>\n",
       "    </tr>\n",
       "  </thead>\n",
       "  <tbody>\n",
       "    <tr>\n",
       "      <th>count</th>\n",
       "      <td>40.000000</td>\n",
       "    </tr>\n",
       "    <tr>\n",
       "      <th>mean</th>\n",
       "      <td>16577.685617</td>\n",
       "    </tr>\n",
       "    <tr>\n",
       "      <th>std</th>\n",
       "      <td>9590.481587</td>\n",
       "    </tr>\n",
       "    <tr>\n",
       "      <th>min</th>\n",
       "      <td>8463.250000</td>\n",
       "    </tr>\n",
       "    <tr>\n",
       "      <th>25%</th>\n",
       "      <td>10402.471719</td>\n",
       "    </tr>\n",
       "    <tr>\n",
       "      <th>50%</th>\n",
       "      <td>11975.642857</td>\n",
       "    </tr>\n",
       "    <tr>\n",
       "      <th>75%</th>\n",
       "      <td>17899.850000</td>\n",
       "    </tr>\n",
       "    <tr>\n",
       "      <th>max</th>\n",
       "      <td>46549.000000</td>\n",
       "    </tr>\n",
       "  </tbody>\n",
       "</table>\n",
       "</div>"
      ],
      "text/plain": [
       "              likes\n",
       "count     40.000000\n",
       "mean   16577.685617\n",
       "std     9590.481587\n",
       "min     8463.250000\n",
       "25%    10402.471719\n",
       "50%    11975.642857\n",
       "75%    17899.850000\n",
       "max    46549.000000"
      ]
     },
     "execution_count": 33,
     "metadata": {},
     "output_type": "execute_result"
    }
   ],
   "source": [
    "df_breed_likes_largest.describe()"
   ]
  },
  {
   "cell_type": "code",
   "execution_count": 34,
   "metadata": {},
   "outputs": [
    {
     "data": {
      "text/plain": [
       "<matplotlib.text.Text at 0x11ac00518>"
      ]
     },
     "execution_count": 34,
     "metadata": {},
     "output_type": "execute_result"
    },
    {
     "data": {
      "image/png": "[encoded data removed]",
      "text/plain": [
       "<matplotlib.figure.Figure at 0x11afa34e0>"
      ]
     },
     "metadata": {},
     "output_type": "display_data"
    }
   ],
   "source": [
    "df_breed_likes_largest.plot.bar(x = 'predicted_breed')\n",
    "x_labels = df_breed_likes.predicted_breed\n",
    "labels = x_labels\n",
    "\n",
    "plt.title('Distribution of Number of Likes')\n",
    "plt.xlabel('Dog Breed')"
   ]
  },
  {
   "cell_type": "markdown",
   "metadata": {},
   "source": [
    "It looks like, from this plot, there were actually no dog breeds that had over 40,000 likes. Angora is a cat breed. Also, the machine learning model that was used to pull some of these dog breeds based on a picture didn't get all the top liked tweets correct. Starting with the first actual dog breed, it looks like the most liked breed is the Saluki, followed by breeds like flat-coated retriever, standard poodle and the norweigen elkhound. Of course, there may actually be a few breeds that received greater than 20,000 likes, and the machine learning algorithm just didn't identify the breed correctly. \n",
    "Despite not knowing exactly which breeds received the most likes, we can say that the average number of likes for the breeds in this dataset is 7,297 and 75% of the breeds (correctly or incorrectly identified) received 17,900 likes or less. \n",
    "Optimally, at this stage, a reassessment would be performed on the dog breed dataset and the data would be cleaned to remove all incorrect dog breeds. This was not one of the 8 quality attributes chosen to fix, but had it been, we would have a clearer understanding of which breeds are most popular. "
   ]
  },
  {
   "cell_type": "markdown",
   "metadata": {},
   "source": [
    "### Insight #2: Which classification resulted in the highest rating? \n",
    "\n",
    "The next area I'll explore is determining which classifications resulted in the highest ratings given by the dog owner. The classifications that I'm referring to are doggo (big pupper, usually older), floofer (dogs with excess fur), pupper (small dogs, usually younger), and puppo (transitional phase between pupper and doggo). This was a limited data set to begin with. That is, although there are 1994 tweet id's, most of the tweet id's did not provide this classification.  \n",
    "\n",
    "The \"Final float ratings\" is a converted rating given to the dog by the person tweeting. These numbers started as fraction and were extracted from the tweet text. For example, a rating of value of 1.2 is actually a rating of 12/10. That is, their dog is of course so great that the numerator exceeds the denominator. "
   ]
  },
  {
   "cell_type": "code",
   "execution_count": 35,
   "metadata": {
    "collapsed": true
   },
   "outputs": [],
   "source": [
    "#Group by category to determine the average rating per classification\n",
    "classification_ratings = df.groupby\n",
    "classification_ratings = df.groupby(['classification'])['final_float_ratings'].mean()"
   ]
  },
  {
   "cell_type": "code",
   "execution_count": 36,
   "metadata": {},
   "outputs": [
    {
     "data": {
      "text/plain": [
       "classification\n",
       "doggo           1.178378\n",
       "floofer         1.200000\n",
       "not provided    1.175758\n",
       "pupper          1.062202\n",
       "puppo           1.200000\n",
       "Name: final_float_ratings, dtype: float64"
      ]
     },
     "execution_count": 36,
     "metadata": {},
     "output_type": "execute_result"
    }
   ],
   "source": [
    "classification_ratings.head()"
   ]
  },
  {
   "cell_type": "markdown",
   "metadata": {},
   "source": [
    "It looks like the order of ranking for scores is: \n",
    "\n",
    "1) Floofer and puppo tied at 1.2\n",
    "\n",
    "2) Doggo at 1.178\n",
    "\n",
    "3) Pupper at 1.066\n",
    "\n",
    "Whether or not these ranking are significant, they do seem to make some sense. That is, puppies (\"pupper\") are a lot of work, requiring extra attention and training. Floofers are fluffy, one of the main draws of having a pet, and puppo is the stage beyond the high attention needs of a pupper but still plenty of energy to play. \n",
    "And of course, it makes sense that people would rank their Doggo higher than a new puppy, especially if the owner has had the dog for a long time. \n"
   ]
  },
  {
   "cell_type": "markdown",
   "metadata": {},
   "source": [
    "### Insight #3: Is there a time of day that people tweet the most about their dogs? "
   ]
  },
  {
   "cell_type": "markdown",
   "metadata": {},
   "source": [
    "Just out of curiosity, it would be interesting to find out when people are most active on twitter when tweeting about their dogs. Before the analysis occurs, I'm going to guess afternoon or evening, since that's when most people are leisurely spending time with their dogs. \n",
    "What this will entail is adding a column to the dataframe (morning, afternoon, evening, or night). The way I will classify the times are as follows: \n",
    "\n",
    "6am - 12am : Morning (hour 6 - 12)\n",
    "\n",
    "12pm - 5 pm: Afternoon (hour 12 - 17)\n",
    "\n",
    "5pm - 9 pm: Evening (hour 17-21)\n",
    "\n",
    "9 pm - 6 am: Night (hour 21-24, 0-6)"
   ]
  },
  {
   "cell_type": "code",
   "execution_count": 37,
   "metadata": {},
   "outputs": [
    {
     "name": "stdout",
     "output_type": "stream",
     "text": [
      "<class 'pandas.core.frame.DataFrame'>\n",
      "RangeIndex: 1994 entries, 0 to 1993\n",
      "Data columns (total 9 columns):\n",
      "tweet_id               1994 non-null int64\n",
      "likes                  1994 non-null float64\n",
      "retweet_count          1994 non-null float64\n",
      "predicted_breed        1994 non-null object\n",
      "timestamp              1994 non-null datetime64[ns]\n",
      "text                   1994 non-null object\n",
      "new_names              1994 non-null object\n",
      "final_float_ratings    1994 non-null float64\n",
      "classification         1994 non-null object\n",
      "dtypes: datetime64[ns](1), float64(3), int64(1), object(4)\n",
      "memory usage: 140.3+ KB\n"
     ]
    }
   ],
   "source": [
    "#Convert the datetime into a datetime object: \n",
    "df['timestamp'] = pd.to_datetime(df.timestamp)\n",
    "df.info()"
   ]
  },
  {
   "cell_type": "code",
   "execution_count": 38,
   "metadata": {},
   "outputs": [
    {
     "data": {
      "text/html": [
       "<div>\n",
       "<style>\n",
       "    .dataframe thead tr:only-child th {\n",
       "        text-align: right;\n",
       "    }\n",
       "\n",
       "    .dataframe thead th {\n",
       "        text-align: left;\n",
       "    }\n",
       "\n",
       "    .dataframe tbody tr th {\n",
       "        vertical-align: top;\n",
       "    }\n",
       "</style>\n",
       "<table border=\"1\" class=\"dataframe\">\n",
       "  <thead>\n",
       "    <tr style=\"text-align: right;\">\n",
       "      <th></th>\n",
       "      <th>tweet_id</th>\n",
       "      <th>likes</th>\n",
       "      <th>retweet_count</th>\n",
       "      <th>predicted_breed</th>\n",
       "      <th>timestamp</th>\n",
       "      <th>text</th>\n",
       "      <th>new_names</th>\n",
       "      <th>final_float_ratings</th>\n",
       "      <th>classification</th>\n",
       "    </tr>\n",
       "  </thead>\n",
       "  <tbody>\n",
       "    <tr>\n",
       "      <th>0</th>\n",
       "      <td>890006608113172480</td>\n",
       "      <td>30808.0</td>\n",
       "      <td>7447.0</td>\n",
       "      <td>Samoyed</td>\n",
       "      <td>2017-07-26 00:31:25</td>\n",
       "      <td>This is Koda. He is a South Australian decksha...</td>\n",
       "      <td>koda</td>\n",
       "      <td>1.3</td>\n",
       "      <td>not provided</td>\n",
       "    </tr>\n",
       "    <tr>\n",
       "      <th>1</th>\n",
       "      <td>872620804844003328</td>\n",
       "      <td>20998.0</td>\n",
       "      <td>3804.0</td>\n",
       "      <td>cocker_spaniel</td>\n",
       "      <td>2017-06-08 01:06:27</td>\n",
       "      <td>This is Monkey. She's supporting owners everyw...</td>\n",
       "      <td>monkey</td>\n",
       "      <td>1.3</td>\n",
       "      <td>not provided</td>\n",
       "    </tr>\n",
       "    <tr>\n",
       "      <th>2</th>\n",
       "      <td>872486979161796608</td>\n",
       "      <td>41017.0</td>\n",
       "      <td>9220.0</td>\n",
       "      <td>Pembroke</td>\n",
       "      <td>2017-06-07 16:14:40</td>\n",
       "      <td>We. Only. Rate. Dogs. Do not send in other thi...</td>\n",
       "      <td>Invalid Name</td>\n",
       "      <td>1.2</td>\n",
       "      <td>not provided</td>\n",
       "    </tr>\n",
       "    <tr>\n",
       "      <th>3</th>\n",
       "      <td>870804317367881728</td>\n",
       "      <td>34089.0</td>\n",
       "      <td>6417.0</td>\n",
       "      <td>home_theater</td>\n",
       "      <td>2017-06-03 00:48:22</td>\n",
       "      <td>Real funny guys. Sending in a pic without a do...</td>\n",
       "      <td>Invalid Name</td>\n",
       "      <td>1.1</td>\n",
       "      <td>not provided</td>\n",
       "    </tr>\n",
       "    <tr>\n",
       "      <th>4</th>\n",
       "      <td>870374049280663552</td>\n",
       "      <td>83813.0</td>\n",
       "      <td>27060.0</td>\n",
       "      <td>golden_retriever</td>\n",
       "      <td>2017-06-01 20:18:38</td>\n",
       "      <td>This is Zoey. She really likes the planet. Wou...</td>\n",
       "      <td>zoey</td>\n",
       "      <td>1.3</td>\n",
       "      <td>not provided</td>\n",
       "    </tr>\n",
       "  </tbody>\n",
       "</table>\n",
       "</div>"
      ],
      "text/plain": [
       "             tweet_id    likes  retweet_count   predicted_breed  \\\n",
       "0  890006608113172480  30808.0         7447.0           Samoyed   \n",
       "1  872620804844003328  20998.0         3804.0    cocker_spaniel   \n",
       "2  872486979161796608  41017.0         9220.0          Pembroke   \n",
       "3  870804317367881728  34089.0         6417.0      home_theater   \n",
       "4  870374049280663552  83813.0        27060.0  golden_retriever   \n",
       "\n",
       "            timestamp                                               text  \\\n",
       "0 2017-07-26 00:31:25  This is Koda. He is a South Australian decksha...   \n",
       "1 2017-06-08 01:06:27  This is Monkey. She's supporting owners everyw...   \n",
       "2 2017-06-07 16:14:40  We. Only. Rate. Dogs. Do not send in other thi...   \n",
       "3 2017-06-03 00:48:22  Real funny guys. Sending in a pic without a do...   \n",
       "4 2017-06-01 20:18:38  This is Zoey. She really likes the planet. Wou...   \n",
       "\n",
       "      new_names  final_float_ratings classification  \n",
       "0          koda                  1.3   not provided  \n",
       "1        monkey                  1.3   not provided  \n",
       "2  Invalid Name                  1.2   not provided  \n",
       "3  Invalid Name                  1.1   not provided  \n",
       "4          zoey                  1.3   not provided  "
      ]
     },
     "execution_count": 38,
     "metadata": {},
     "output_type": "execute_result"
    }
   ],
   "source": [
    "df.head()"
   ]
  },
  {
   "cell_type": "code",
   "execution_count": 39,
   "metadata": {
    "collapsed": true
   },
   "outputs": [],
   "source": [
    "#Extract the hour from each timestamp for further classification into bins: \n",
    "for index, row in df.iterrows():\n",
    "    time = row[4]\n",
    "    df.loc[index, \"extracted_hour\"] = time.hour\n",
    "    "
   ]
  },
  {
   "cell_type": "code",
   "execution_count": 40,
   "metadata": {},
   "outputs": [
    {
     "data": {
      "text/html": [
       "<div>\n",
       "<style>\n",
       "    .dataframe thead tr:only-child th {\n",
       "        text-align: right;\n",
       "    }\n",
       "\n",
       "    .dataframe thead th {\n",
       "        text-align: left;\n",
       "    }\n",
       "\n",
       "    .dataframe tbody tr th {\n",
       "        vertical-align: top;\n",
       "    }\n",
       "</style>\n",
       "<table border=\"1\" class=\"dataframe\">\n",
       "  <thead>\n",
       "    <tr style=\"text-align: right;\">\n",
       "      <th></th>\n",
       "      <th>tweet_id</th>\n",
       "      <th>likes</th>\n",
       "      <th>retweet_count</th>\n",
       "      <th>predicted_breed</th>\n",
       "      <th>timestamp</th>\n",
       "      <th>text</th>\n",
       "      <th>new_names</th>\n",
       "      <th>final_float_ratings</th>\n",
       "      <th>classification</th>\n",
       "      <th>extracted_hour</th>\n",
       "    </tr>\n",
       "  </thead>\n",
       "  <tbody>\n",
       "    <tr>\n",
       "      <th>0</th>\n",
       "      <td>890006608113172480</td>\n",
       "      <td>30808.0</td>\n",
       "      <td>7447.0</td>\n",
       "      <td>Samoyed</td>\n",
       "      <td>2017-07-26 00:31:25</td>\n",
       "      <td>This is Koda. He is a South Australian decksha...</td>\n",
       "      <td>koda</td>\n",
       "      <td>1.3</td>\n",
       "      <td>not provided</td>\n",
       "      <td>0.0</td>\n",
       "    </tr>\n",
       "    <tr>\n",
       "      <th>1</th>\n",
       "      <td>872620804844003328</td>\n",
       "      <td>20998.0</td>\n",
       "      <td>3804.0</td>\n",
       "      <td>cocker_spaniel</td>\n",
       "      <td>2017-06-08 01:06:27</td>\n",
       "      <td>This is Monkey. She's supporting owners everyw...</td>\n",
       "      <td>monkey</td>\n",
       "      <td>1.3</td>\n",
       "      <td>not provided</td>\n",
       "      <td>1.0</td>\n",
       "    </tr>\n",
       "    <tr>\n",
       "      <th>2</th>\n",
       "      <td>872486979161796608</td>\n",
       "      <td>41017.0</td>\n",
       "      <td>9220.0</td>\n",
       "      <td>Pembroke</td>\n",
       "      <td>2017-06-07 16:14:40</td>\n",
       "      <td>We. Only. Rate. Dogs. Do not send in other thi...</td>\n",
       "      <td>Invalid Name</td>\n",
       "      <td>1.2</td>\n",
       "      <td>not provided</td>\n",
       "      <td>16.0</td>\n",
       "    </tr>\n",
       "    <tr>\n",
       "      <th>3</th>\n",
       "      <td>870804317367881728</td>\n",
       "      <td>34089.0</td>\n",
       "      <td>6417.0</td>\n",
       "      <td>home_theater</td>\n",
       "      <td>2017-06-03 00:48:22</td>\n",
       "      <td>Real funny guys. Sending in a pic without a do...</td>\n",
       "      <td>Invalid Name</td>\n",
       "      <td>1.1</td>\n",
       "      <td>not provided</td>\n",
       "      <td>0.0</td>\n",
       "    </tr>\n",
       "    <tr>\n",
       "      <th>4</th>\n",
       "      <td>870374049280663552</td>\n",
       "      <td>83813.0</td>\n",
       "      <td>27060.0</td>\n",
       "      <td>golden_retriever</td>\n",
       "      <td>2017-06-01 20:18:38</td>\n",
       "      <td>This is Zoey. She really likes the planet. Wou...</td>\n",
       "      <td>zoey</td>\n",
       "      <td>1.3</td>\n",
       "      <td>not provided</td>\n",
       "      <td>20.0</td>\n",
       "    </tr>\n",
       "  </tbody>\n",
       "</table>\n",
       "</div>"
      ],
      "text/plain": [
       "             tweet_id    likes  retweet_count   predicted_breed  \\\n",
       "0  890006608113172480  30808.0         7447.0           Samoyed   \n",
       "1  872620804844003328  20998.0         3804.0    cocker_spaniel   \n",
       "2  872486979161796608  41017.0         9220.0          Pembroke   \n",
       "3  870804317367881728  34089.0         6417.0      home_theater   \n",
       "4  870374049280663552  83813.0        27060.0  golden_retriever   \n",
       "\n",
       "            timestamp                                               text  \\\n",
       "0 2017-07-26 00:31:25  This is Koda. He is a South Australian decksha...   \n",
       "1 2017-06-08 01:06:27  This is Monkey. She's supporting owners everyw...   \n",
       "2 2017-06-07 16:14:40  We. Only. Rate. Dogs. Do not send in other thi...   \n",
       "3 2017-06-03 00:48:22  Real funny guys. Sending in a pic without a do...   \n",
       "4 2017-06-01 20:18:38  This is Zoey. She really likes the planet. Wou...   \n",
       "\n",
       "      new_names  final_float_ratings classification  extracted_hour  \n",
       "0          koda                  1.3   not provided             0.0  \n",
       "1        monkey                  1.3   not provided             1.0  \n",
       "2  Invalid Name                  1.2   not provided            16.0  \n",
       "3  Invalid Name                  1.1   not provided             0.0  \n",
       "4          zoey                  1.3   not provided            20.0  "
      ]
     },
     "execution_count": 40,
     "metadata": {},
     "output_type": "execute_result"
    }
   ],
   "source": [
    "df.head()"
   ]
  },
  {
   "cell_type": "code",
   "execution_count": 41,
   "metadata": {},
   "outputs": [
    {
     "data": {
      "text/html": [
       "<div>\n",
       "<style>\n",
       "    .dataframe thead tr:only-child th {\n",
       "        text-align: right;\n",
       "    }\n",
       "\n",
       "    .dataframe thead th {\n",
       "        text-align: left;\n",
       "    }\n",
       "\n",
       "    .dataframe tbody tr th {\n",
       "        vertical-align: top;\n",
       "    }\n",
       "</style>\n",
       "<table border=\"1\" class=\"dataframe\">\n",
       "  <thead>\n",
       "    <tr style=\"text-align: right;\">\n",
       "      <th></th>\n",
       "      <th>tweet_id</th>\n",
       "      <th>likes</th>\n",
       "      <th>retweet_count</th>\n",
       "      <th>predicted_breed</th>\n",
       "      <th>timestamp</th>\n",
       "      <th>text</th>\n",
       "      <th>new_names</th>\n",
       "      <th>final_float_ratings</th>\n",
       "      <th>classification</th>\n",
       "      <th>extracted_hour</th>\n",
       "    </tr>\n",
       "    <tr>\n",
       "      <th>part_of_day</th>\n",
       "      <th></th>\n",
       "      <th></th>\n",
       "      <th></th>\n",
       "      <th></th>\n",
       "      <th></th>\n",
       "      <th></th>\n",
       "      <th></th>\n",
       "      <th></th>\n",
       "      <th></th>\n",
       "      <th></th>\n",
       "    </tr>\n",
       "  </thead>\n",
       "  <tbody>\n",
       "    <tr>\n",
       "      <th>early morning</th>\n",
       "      <td>1036</td>\n",
       "      <td>1036</td>\n",
       "      <td>1036</td>\n",
       "      <td>1036</td>\n",
       "      <td>1036</td>\n",
       "      <td>1036</td>\n",
       "      <td>1036</td>\n",
       "      <td>1036</td>\n",
       "      <td>1036</td>\n",
       "      <td>1036</td>\n",
       "    </tr>\n",
       "    <tr>\n",
       "      <th>morning</th>\n",
       "      <td>0</td>\n",
       "      <td>0</td>\n",
       "      <td>0</td>\n",
       "      <td>0</td>\n",
       "      <td>0</td>\n",
       "      <td>0</td>\n",
       "      <td>0</td>\n",
       "      <td>0</td>\n",
       "      <td>0</td>\n",
       "      <td>0</td>\n",
       "    </tr>\n",
       "    <tr>\n",
       "      <th>afternoon</th>\n",
       "      <td>455</td>\n",
       "      <td>455</td>\n",
       "      <td>455</td>\n",
       "      <td>455</td>\n",
       "      <td>455</td>\n",
       "      <td>455</td>\n",
       "      <td>455</td>\n",
       "      <td>455</td>\n",
       "      <td>455</td>\n",
       "      <td>455</td>\n",
       "    </tr>\n",
       "    <tr>\n",
       "      <th>evening</th>\n",
       "      <td>327</td>\n",
       "      <td>327</td>\n",
       "      <td>327</td>\n",
       "      <td>327</td>\n",
       "      <td>327</td>\n",
       "      <td>327</td>\n",
       "      <td>327</td>\n",
       "      <td>327</td>\n",
       "      <td>327</td>\n",
       "      <td>327</td>\n",
       "    </tr>\n",
       "    <tr>\n",
       "      <th>night</th>\n",
       "      <td>176</td>\n",
       "      <td>176</td>\n",
       "      <td>176</td>\n",
       "      <td>176</td>\n",
       "      <td>176</td>\n",
       "      <td>176</td>\n",
       "      <td>176</td>\n",
       "      <td>176</td>\n",
       "      <td>176</td>\n",
       "      <td>176</td>\n",
       "    </tr>\n",
       "  </tbody>\n",
       "</table>\n",
       "</div>"
      ],
      "text/plain": [
       "               tweet_id  likes  retweet_count  predicted_breed  timestamp  \\\n",
       "part_of_day                                                                 \n",
       "early morning      1036   1036           1036             1036       1036   \n",
       "morning               0      0              0                0          0   \n",
       "afternoon           455    455            455              455        455   \n",
       "evening             327    327            327              327        327   \n",
       "night               176    176            176              176        176   \n",
       "\n",
       "               text  new_names  final_float_ratings  classification  \\\n",
       "part_of_day                                                           \n",
       "early morning  1036       1036                 1036            1036   \n",
       "morning           0          0                    0               0   \n",
       "afternoon       455        455                  455             455   \n",
       "evening         327        327                  327             327   \n",
       "night           176        176                  176             176   \n",
       "\n",
       "               extracted_hour  \n",
       "part_of_day                    \n",
       "early morning            1036  \n",
       "morning                     0  \n",
       "afternoon                 455  \n",
       "evening                   327  \n",
       "night                     176  "
      ]
     },
     "execution_count": 41,
     "metadata": {},
     "output_type": "execute_result"
    }
   ],
   "source": [
    "#Divide up the hour according to bins outlined in the description above: \n",
    "\n",
    "# Bin edges that will be used to \"cut\" the data into groups\n",
    "bin_edges = [-0.1, 6.0, 12.0, 17.0, 21.0, 24.1] \n",
    "\n",
    "#Step 3:\n",
    "# Labels for the five time of day groups\n",
    "bin_names = [ 'early morning', 'morning' , 'afternoon','evening', 'night' ] # Name each acidity level category\n",
    "\n",
    "#Step 4:\n",
    "# Creates part of day column\n",
    "df['part_of_day'] = pd.cut(df['extracted_hour'], bin_edges, labels=bin_names)\n",
    "\n",
    "\n",
    "#Step 5:\n",
    "# Find the count for the number of tweets for each time of day category.\n",
    "df.groupby('part_of_day').count()\n",
    "\n",
    "\n"
   ]
  },
  {
   "cell_type": "markdown",
   "metadata": {},
   "source": [
    "I wasn't surprised by this information. The time shown above is UTC time, which is 4 hours ahead of EST. So the bins are actually as follows: \n",
    "For the purpose of this analysis, we'll assume EST, although tweets are most likely from other parts of the country and world on different time zones. Most of the US is either on EST or central (which is only 1 hour from EST). \n",
    "\n",
    "Early morning (0 -6 am UTC) : (4am - 10 am EST)\n",
    "\n",
    "Morning (6 - 12 am UTC): (10am - 4 pm EST)\n",
    "\n",
    "Afternoon (12 pm - 5 pm UTC): (4 pm - 9 pm EST)\n",
    "\n",
    "Evening (5 pm - 9 pm UTC): (9 pm - 1 am EST) \n",
    "\n",
    "Night (9 pm - 12 midnight) : (1 am - 4 am EST)\n",
    "\n",
    "Most tweets occurred between the hours of 4 am and 10 am EST, which makes sense, since dogs need to be walked in the morning, and that's when most people are out with their dogs. What I found interesting is that no tweets in this dataset are between 10 am and 4 pm. Although most people are working between those hours, I found it surprising that 0 tweets occurred during that time (in this dataset). \n",
    "\n",
    "Also not surprising is that the next most popular time was between the hours of 4 and 9 pm (dogs also need their second walk of the day), followed by 9 p -1 am , and then 1 am until 4 am. \n",
    "To be sure my classification was correct, I double checked the values of the values of the extracted hour in the code block below. "
   ]
  },
  {
   "cell_type": "code",
   "execution_count": 42,
   "metadata": {},
   "outputs": [
    {
     "data": {
      "text/plain": [
       "array([  0.,   1.,  16.,  20.,   4.,  19.,  23.,  17.,   3.,  15.,  18.,\n",
       "        22.,  21.,   2.,   6.,  14.,   5.,  13.])"
      ]
     },
     "execution_count": 42,
     "metadata": {},
     "output_type": "execute_result"
    }
   ],
   "source": [
    "df['extracted_hour'].unique()"
   ]
  },
  {
   "cell_type": "markdown",
   "metadata": {},
   "source": [
    "#### Visual: Word cloud of texts and descriptions about the dogs\n",
    "\n",
    "Each tweet id in this dataframe has texts associated with the tweet. These words are typically words used to describe their dogs, as well as might they might be doing in the picture. \n",
    "\n",
    "A word cloud is a great way to represent a summary of the tweets about how people feel about their dogs, and why they tweet about them (or at least the people in this dataset). \n",
    "\n"
   ]
  },
  {
   "cell_type": "code",
   "execution_count": 43,
   "metadata": {
    "collapsed": true
   },
   "outputs": [],
   "source": [
    "#Download packages required for wordcloud: \n",
    "from PIL import Image\n",
    "from wordcloud import WordCloud, STOPWORDS"
   ]
  },
  {
   "cell_type": "code",
   "execution_count": 47,
   "metadata": {},
   "outputs": [
    {
     "data": {
      "image/png": "[encoded data removed]",
      "text/plain": [
       "<matplotlib.figure.Figure at 0x11b8dd0f0>"
      ]
     },
     "metadata": {},
     "output_type": "display_data"
    }
   ],
   "source": [
    "#Generate the word cloud image\n",
    "wordcloud = WordCloud().generate(''.join(df['text']))\n",
    "# Generate plot\n",
    "plt.imshow(wordcloud)\n",
    "plt.axis(\"off\")\n",
    "plt.title(\"Twitter - We Rate Dogs\")\n",
    "plt.show()\n",
    "\n",
    "\n"
   ]
  },
  {
   "cell_type": "markdown",
   "metadata": {
    "collapsed": true
   },
   "source": [
    "#### Final Conclusions/Statements: \n",
    "\n",
    "Not surprisingly, people love their dogs, and they love to tweet about them. Through this analysis exercise, I found that people tweet about their dogs the most when they are with them. The words in the word cloud above show the most common words people associate with their dogs. The most common word, https, was left in there. I thought it made sense to leave this word in, since this project is all about what people are posting about their dogs on twitter. Other words that pop out are happy, good, pup, pupper, tongue. etc. \n",
    "Overall, the message to be taken from this exercise is that dogs are people's best friends, and people love to share information about them with others. "
   ]
  }
 ],
 "metadata": {
  "kernelspec": {
   "display_name": "Python [conda root]",
   "language": "python",
   "name": "conda-root-py"
  },
  "language_info": {
   "codemirror_mode": {
    "name": "ipython",
    "version": 3
   },
   "file_extension": ".py",
   "mimetype": "text/x-python",
   "name": "python",
   "nbconvert_exporter": "python",
   "pygments_lexer": "ipython3",
   "version": "3.6.2"
  }
 },
 "nbformat": 4,
 "nbformat_minor": 2
}
